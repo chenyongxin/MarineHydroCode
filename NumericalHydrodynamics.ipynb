{
 "cells": [
  {
   "cell_type": "markdown",
   "metadata": {},
   "source": [
    "# Numercial Hydrodynamics Coursework --Yongxin Chen  26678357"
   ]
  },
  {
   "cell_type": "markdown",
   "metadata": {},
   "source": [
    "## 1. A circular cylinder"
   ]
  },
  {
   "cell_type": "markdown",
   "metadata": {},
   "source": [
    "For a 2D incompressible flow, the Bernoulli's equation can be written below:\n",
    "\n",
    "$\\dfrac{1}{2}v^2+gz+\\dfrac{p}{\\rho}=constant$\n",
    "\n",
    "Assuming the infinite pressure is $P_{\\infty}$ and local pressure is $P_{l}$. So the equation can be rewritten below:\n",
    "\n",
    "$p_l-p_\\infty=\\dfrac{1}{2}(v_\\infty^2-v_{l}^2)$\n",
    "\n",
    "The pressure coefficient is defined:\n",
    "\n",
    "$C_P=\\dfrac{P_l-P_\\infty}{\\frac{1}{2}\\rho_\\infty V_\\infty^2}=1-(\\dfrac{v_l}{v_\\infty})^2$\n",
    "\n",
    "The difference between $P_l$ and $P_\\infty$ is determined by vortex panel method method simply:\n",
    "\n",
    "$P_l-P_\\infty=\\sum_{i=0}^{N-1}(p_l-p_\\infty)dS_i=\\sum_{i=0}^{N-1}\\dfrac{1}{2}\\rho(v_\\infty^2-v_i^2)2S_i$\n",
    "\n",
    "So the pressure coefficient is:\n",
    "\n",
    "$C_P=\\sum_{i=0}^{N-1}\\left[1-\\left(\\dfrac{v_i}{v_\\infty}\\right)^2\\right]2S_i$\n",
    "\n",
    "First of all, import already existed code"
   ]
  },
  {
   "cell_type": "code",
   "execution_count": 2,
   "metadata": {
    "collapsed": true
   },
   "outputs": [],
   "source": [
    "import numpy\n",
    "from VortexPanel import Panel,plot_flow\n",
    "from LiftBody import solve_gamma_kutta, make_jukowski,make_circle"
   ]
  },
  {
   "cell_type": "code",
   "execution_count": 3,
   "metadata": {
    "collapsed": true
   },
   "outputs": [],
   "source": [
    "circle = make_circle(32)\n"
   ]
  },
  {
   "cell_type": "code",
   "execution_count": null,
   "metadata": {
    "collapsed": true
   },
   "outputs": [],
   "source": []
  }
 ],
 "metadata": {
  "kernelspec": {
   "display_name": "Python 2",
   "language": "python",
   "name": "python2"
  },
  "language_info": {
   "codemirror_mode": {
    "name": "ipython",
    "version": 2
   },
   "file_extension": ".py",
   "mimetype": "text/x-python",
   "name": "python",
   "nbconvert_exporter": "python",
   "pygments_lexer": "ipython2",
   "version": "2.7.9"
  }
 },
 "nbformat": 4,
 "nbformat_minor": 0
}
