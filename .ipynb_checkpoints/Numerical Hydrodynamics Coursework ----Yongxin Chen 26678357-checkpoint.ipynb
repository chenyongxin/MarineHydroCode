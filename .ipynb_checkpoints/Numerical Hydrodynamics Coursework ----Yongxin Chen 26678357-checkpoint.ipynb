{
 "cells": [
  {
   "cell_type": "markdown",
   "metadata": {},
   "source": [
    "# Numercial Hydrodynamics --Yongxin Chen  26678357"
   ]
  },
  {
   "cell_type": "markdown",
   "metadata": {},
   "source": [
    "## 1. A circular cylinder"
   ]
  },
  {
   "cell_type": "markdown",
   "metadata": {},
   "source": [
    "### Pressure coefficient\n",
    "For a 2D incompressible flow, the Bernoulli's equation can be written below:\n",
    "\n",
    "<center>$\\dfrac{1}{2}v^2+gz+\\dfrac{p}{\\rho}=constant$</center>\n",
    "\n",
    "Assuming the infinite pressure is $P_{\\infty}$ and local pressure is $P_{l}$. So the equation can be rewritten below:\n",
    "\n",
    "<center>$p_l-p_\\infty=\\dfrac{1}{2}(v_\\infty^2-v_{l}^2)$</center>\n",
    "\n",
    "The pressure coefficient is defined:\n",
    "\n",
    "<center>$C_P=\\dfrac{p_l-p_\\infty}{\\frac{1}{2}\\rho_\\infty V_\\infty^2}=1-(\\dfrac{v_l}{v_\\infty})^2$</center>\n",
    "\n",
    "The difference between $p_l$ and $p_\\infty$ is determined by vortex panel method method simply:\n",
    "\n",
    "<center>$p_l-p_\\infty=\\dfrac{1}{2}\\rho(v_\\infty^2-v_i^2)$</center>\n",
    "\n",
    "So the pressure coefficient is:\n",
    "\n",
    "<center>$C_P=1-\\left(\\dfrac{v_i}{v_\\infty}\\right)^2$</center>\n",
    "\n",
    "First of all, import ingredients."
   ]
  },
  {
   "cell_type": "code",
   "execution_count": 3,
   "metadata": {
    "collapsed": true
   },
   "outputs": [],
   "source": [
    "import numpy\n",
    "from matplotlib import pyplot\n",
    "from VortexPanel import Panel,plot_flow, flow_velocity\n",
    "from LiftBody import solve_gamma_kutta, make_jukowski"
   ]
  },
  {
   "cell_type": "markdown",
   "metadata": {},
   "source": [
    "Here, in order to compare numerical result with exact potential flow solution, I create a new circle making function beginning with $\\theta$ from $\\pi$ to $-\\pi$."
   ]
  },
  {
   "cell_type": "code",
   "execution_count": 4,
   "metadata": {
    "collapsed": true
   },
   "outputs": [],
   "source": [
    "def new_make_circle(N):\n",
    "    # define the end-points of the panels\n",
    "    x_ends = numpy.cos(numpy.linspace(numpy.pi, -numpy.pi, N+1))\n",
    "    y_ends = numpy.sin(numpy.linspace(numpy.pi, -numpy.pi, N+1))\n",
    "\n",
    "    # define the panels\n",
    "    circle = numpy.empty(N, dtype=object)\n",
    "    for i in xrange(N):\n",
    "        circle[i] = Panel(x_ends[i], y_ends[i], x_ends[i+1], y_ends[i+1])\n",
    "\n",
    "    return circle"
   ]
  },
  {
   "cell_type": "markdown",
   "metadata": {},
   "source": [
    "Get the exact potential flow solution."
   ]
  },
  {
   "cell_type": "code",
   "execution_count": 5,
   "metadata": {
    "collapsed": true
   },
   "outputs": [],
   "source": [
    "# get the exact potential flow solution. C_P against theta\n",
    "def potential_flow_solution():\n",
    "    theta = numpy.linspace(0,numpy.pi,180)\n",
    "    C_P = 1-4*numpy.sin(theta)**2\n",
    "    pyplot.figure(figsize=(8,6))\n",
    "    pyplot.ylabel(\"$C_P$\",fontsize=16)\n",
    "    pyplot.xlabel(r'$\\theta$',fontsize=16)\n",
    "    pyplot.plot(theta,C_P,lw=2, c='k', label=r'$C_P$')"
   ]
  },
  {
   "cell_type": "code",
   "execution_count": 11,
   "metadata": {
    "collapsed": false
   },
   "outputs": [],
   "source": [
    "potential_flow_solution()"
   ]
  },
  {
   "cell_type": "markdown",
   "metadata": {},
   "source": [
    "Now, use the fomula $C_P=1-\\left(\\dfrac{v_i}{v_\\infty}\\right)^2$ to get the velocity at each point along the surface."
   ]
  },
  {
   "cell_type": "code",
   "execution_count": 7,
   "metadata": {
    "collapsed": true
   },
   "outputs": [],
   "source": [
    "#first of all, define the coordinate of circle, then use these coordinates to find the velocity.\n",
    "#directly use flow_velocity to find the velocity along the surface\n",
    "\n",
    "def pressure(panels):\n",
    "    x = numpy.array([p.xc for p in panels])\n",
    "    y = numpy.array([p.yc for p in panels])\n",
    "    u,v = flow_velocity(panels,x,y)    \n",
    "    return 1-u**2-v**2 "
   ]
  },
  {
   "cell_type": "markdown",
   "metadata": {},
   "source": [
    "Here, I create a pressure coefficient plotting function to see the pressure coefficient distribution against the angle $\\theta$."
   ]
  },
  {
   "cell_type": "code",
   "execution_count": 8,
   "metadata": {
    "collapsed": true
   },
   "outputs": [],
   "source": [
    "# define pressure coefficient plotting function\n",
    "def CPplot(panels):\n",
    "    theta = numpy.linspace(0,2*numpy.pi,len(panels))\n",
    "    pyplot.figure(figsize=(8,6))\n",
    "    pyplot.ylabel(\"$C_P$\",fontsize=16)\n",
    "    pyplot.xlabel(r'$\\theta$',fontsize=16)\n",
    "    pyplot.plot(theta[0:len(theta)/2],pressure(panels)[0:len(panels)/2],lw=2, c='g', label=r'$C_P$')\n",
    "    pyplot.legend(loc='lower right')"
   ]
  },
  {
   "cell_type": "markdown",
   "metadata": {},
   "source": [
    "Now, define a new circular cylinder with 32 vortex panels to test the previous code."
   ]
  },
  {
   "cell_type": "code",
   "execution_count": 9,
   "metadata": {
    "collapsed": false
   },
   "outputs": [
    {
     "name": "stderr",
     "output_type": "stream",
     "text": [
      "VortexPanel.py:13: RuntimeWarning: divide by zero encountered in divide\n",
      "  return gamma/(2*numpy.pi)*(numpy.arctan((x-S)/y)-numpy.arctan((x+S)/y))\n"
     ]
    }
   ],
   "source": [
    "circle = new_make_circle(32)\n",
    "solve_gamma_kutta(circle)\n",
    "CPplot(circle)"
   ]
  },
  {
   "cell_type": "markdown",
   "metadata": {},
   "source": [
    "Now, let's define circle with 32, 64, 128 vortex panels to compare the numerical result with exact potential flow value."
   ]
  },
  {
   "cell_type": "code",
   "execution_count": 12,
   "metadata": {
    "collapsed": false
   },
   "outputs": [
    {
     "data": {
      "text/plain": [
       "<matplotlib.legend.Legend at 0x106d83410>"
      ]
     },
     "execution_count": 12,
     "metadata": {},
     "output_type": "execute_result"
    }
   ],
   "source": [
    "# define 3 different resolutions of circular cylinders and plot in the same figure.\n",
    "circle32 = new_make_circle(32)\n",
    "solve_gamma_kutta(circle32)\n",
    "\n",
    "circle64 = new_make_circle(64)\n",
    "solve_gamma_kutta(circle64)\n",
    "\n",
    "circle128 = new_make_circle(128)\n",
    "solve_gamma_kutta(circle128)\n",
    "\n",
    "pyplot.figure(figsize=(8,6))\n",
    "pyplot.ylabel(r\"$C_P$\",fontsize=16)\n",
    "pyplot.xlabel(r'$\\theta$',fontsize=16)\n",
    "# Notice the theta value and number here should changed following CPplot function \n",
    "# because the range of theta in the figure is from 0 to pi\n",
    "pyplot.plot(numpy.linspace(0,2*numpy.pi,len(circle32))[0:len(circle32)/2],pressure(circle32)[0:len(circle32)/2],lw=2, c='c', label='$C_P--32$')\n",
    "pyplot.plot(numpy.linspace(0,2*numpy.pi,len(circle64))[0:len(circle64)/2],pressure(circle64)[0:len(circle64)/2],lw=2, c='b', label='$C_P--64$')\n",
    "pyplot.plot(numpy.linspace(0,2*numpy.pi,len(circle128))[0:len(circle128)/2],pressure(circle128)[0:len(circle128)/2],lw=2, c='r', label='$C_P--128$')\n",
    "pyplot.plot(numpy.linspace(0,numpy.pi,180),1-4*numpy.sin(numpy.linspace(0,numpy.pi,180))**2,lw=2, c='k', label='$C_P--exact$')\n",
    "pyplot.legend(loc='lower right')"
   ]
  },
  {
   "cell_type": "markdown",
   "metadata": {
    "collapsed": true
   },
   "source": [
    "### Frictional coefficient"
   ]
  },
  {
   "cell_type": "markdown",
   "metadata": {},
   "source": [
    "Compute the friction drag coefficient $C_F$. $C_F=\\dfrac{D}{\\frac{1}{2}\\rho u_e^2 S}$ is used, where $D$ is drag force and $D = \\int \\tau_\\omega s_x ds$. $\\tau_\\omega$ is wall shear stress. $\\tau_\\omega$ can be computed as below.\n",
    "\n",
    "<center>$\\tau_\\omega=\\dfrac{\\mu u_e}{\\delta}f'(0)$</center>\n",
    "\n",
    "The velocity along the surface of cylinder is $v_\\theta = 2 sin(\\theta)$ where assuming background flow velocity is $1m/s$ and the radius of cylinder is 1. So $f'(0)=v'_\\theta=2 cos(\\theta)$. The key point to solve wall shear stress or friction coefficient is to calculate the thickness of boundary layer $\\delta$.\n",
    "\n",
    "Using Pohlhausen momentum equation, we can get the form like Boundary Layer Solver lesson mentioned.\n",
    "\n",
    "<center>$\\delta'=\\dfrac{g_1(\\lambda)}{Re_\\delta F(\\lambda)}$</center>\n",
    "\n",
    "Where $F = \\dfrac{\\delta_2}{\\delta}$. This ODE with the initial value of $\\delta_0=\\sqrt{\\dfrac{\\nu \\lambda_0}{u'_e(x_0)}}$. $\\lambda_0 = 7.05232310118$.  "
   ]
  },
  {
   "cell_type": "code",
   "execution_count": null,
   "metadata": {
    "collapsed": true
   },
   "outputs": [],
   "source": []
  }
 ],
 "metadata": {
  "kernelspec": {
   "display_name": "Python 2",
   "language": "python",
   "name": "python2"
  },
  "language_info": {
   "codemirror_mode": {
    "name": "ipython",
    "version": 2
   },
   "file_extension": ".py",
   "mimetype": "text/x-python",
   "name": "python",
   "nbconvert_exporter": "python",
   "pygments_lexer": "ipython2",
   "version": "2.7.9"
  }
 },
 "nbformat": 4,
 "nbformat_minor": 0
}
